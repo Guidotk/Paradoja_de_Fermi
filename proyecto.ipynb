{
 "cells": [
  {
   "cell_type": "markdown",
   "id": "02f624c0",
   "metadata": {},
   "source": [
    "Paradoja de Fermi"
   ]
  },
  {
   "cell_type": "code",
   "execution_count": 2,
   "id": "a48b85e7",
   "metadata": {
    "scrolled": false
   },
   "outputs": [],
   "source": [
    "import tkinter as tk\n",
    "import random\n",
    "\n",
    "# Crear la ventana\n",
    "window = tk.Tk()\n",
    "window.title(\"Vía Láctea\")\n",
    "window.geometry(\"800x600\")\n",
    "\n",
    "# Crear el lienzo\n",
    "canvas = tk.Canvas(window, width=800, height=600)\n",
    "canvas.pack()\n",
    "\n",
    "# Función para dibujar las estrellas\n",
    "def draw_star(x, y, size, color):\n",
    "    canvas.create_oval(x - size, y - size, x + size, y + size, fill=color, outline=\"\")\n",
    "\n",
    "# Dibujar las estrellas de la Vía Láctea\n",
    "for _ in range(500):\n",
    "    x = random.randint(0, 800)\n",
    "    y = random.randint(0, 600)\n",
    "    size = random.randint(1, 3)\n",
    "    color = random.choice([\"#FFFFFF\", \"#FFFF00\", \"#00FFFF\", \"#FF00FF\"])  # Colores aleatorios\n",
    "    draw_star(x, y, size, color)\n",
    "\n",
    "# Ejecutar la ventana\n",
    "window.mainloop()\n"
   ]
  },
  {
   "cell_type": "markdown",
   "id": "ef1cba21",
   "metadata": {},
   "source": [
    "PRUEBANCOD COSAS "
   ]
  },
  {
   "cell_type": "code",
   "execution_count": null,
   "id": "89eff8e8",
   "metadata": {},
   "outputs": [],
   "source": []
  }
 ],
 "metadata": {
  "kernelspec": {
   "display_name": "Python 3 (ipykernel)",
   "language": "python",
   "name": "python3"
  },
  "language_info": {
   "codemirror_mode": {
    "name": "ipython",
    "version": 3
   },
   "file_extension": ".py",
   "mimetype": "text/x-python",
   "name": "python",
   "nbconvert_exporter": "python",
   "pygments_lexer": "ipython3",
   "version": "3.10.9"
  }
 },
 "nbformat": 4,
 "nbformat_minor": 5
}
