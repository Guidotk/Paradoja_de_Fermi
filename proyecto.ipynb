{
 "cells": [
  {
   "cell_type": "code",
   "execution_count": null,
   "id": "a48b85e7",
   "metadata": {
    "scrolled": false
   },
   "outputs": [],
   "source": [
    "import tkinter as tk\n",
    "\n",
    "def mostrar_mensaje():\n",
    "    nombre = entrada.get()\n",
    "    mensaje = \"¡Hola, \" + nombre + \"! Bienvenido/a.\"\n",
    "    etiqueta2.config(text=mensaje)\n",
    "\n",
    "# Crear una instancia de la ventana\n",
    "ventana = tk.Tk()\n",
    "\n",
    "# Configurar las propiedades de la ventana\n",
    "ventana.title(\"Mi ventana Tkinter\")\n",
    "ventana.geometry(\"300x200\")\n",
    "\n",
    "# Crear una etiqueta\n",
    "etiqueta = tk.Label(ventana, text=\"Ingrese su nombre:\")\n",
    "etiqueta.pack()\n",
    "\n",
    "\n",
    "# Crear un cuadro de entrada\n",
    "entrada = tk.Entry(ventana)\n",
    "entrada.pack()\n",
    "\n",
    "# Crear un botón\n",
    "boton = tk.Button(ventana, text=\"Aceptar\", command=mostrar_mensaje)\n",
    "boton.pack()\n",
    "\n",
    "# Crear una etiqueta\n",
    "etiqueta2 = tk.Label(ventana, text=\"\")\n",
    "etiqueta2.pack()\n",
    "\n",
    "# Ejecutar el bucle principal de la aplicación\n",
    "ventana.mainloop()"
   ]
  }
 ],
 "metadata": {
  "kernelspec": {
   "display_name": "Python 3 (ipykernel)",
   "language": "python",
   "name": "python3"
  },
  "language_info": {
   "codemirror_mode": {
    "name": "ipython",
    "version": 3
   },
   "file_extension": ".py",
   "mimetype": "text/x-python",
   "name": "python",
   "nbconvert_exporter": "python",
   "pygments_lexer": "ipython3",
   "version": "3.10.9"
  }
 },
 "nbformat": 4,
 "nbformat_minor": 5
}
