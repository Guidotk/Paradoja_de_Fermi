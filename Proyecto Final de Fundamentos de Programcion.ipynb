{
 "cells": [
  {
   "cell_type": "code",
   "execution_count": 90,
   "metadata": {},
   "outputs": [],
   "source": [
    "from tkinter import *\n",
    "\n",
    "raiz=Tk()\n",
    "\n",
    "raiz.title(\"Paradoja de Fermi\")\n",
    "raiz.resizable(True,True)\n",
    "raiz.config(bg=\"black\")\n",
    "#-------------PATALLA PRINCIPAL---------------------------\n",
    "PantallaPrincipal=Frame() #frame\n",
    "PantallaPrincipal.config(bg=\"midnightblue\")\n",
    "PantallaPrincipal.config(width=\"450\",height=\"450\")\n",
    "PantallaPrincipal.pack() #empaqueta el Frame \n",
    "#------------------FIN------------------------------------------\n",
    "\n",
    "#-----------------------CUADRO DE TEXTO---------------------------------------------------------------\n",
    "CuadroDeTextoInicial=Label(PantallaPrincipal , text=\"Ingresa tamaño del radio de la burbuja\\nen metros:\") #comienza el label\n",
    "CuadroDeTextoInicial.config(font=(\"Comic Sans MS\",14))\n",
    "CuadroDeTextoInicial.config(fg=\"yellow\")\n",
    "CuadroDeTextoInicial.config(bg=\"midnightblue\")\n",
    "CuadroDeTextoInicial.place(x=60,y=100) #empaqueta a Label sin afectar el tamaño\n",
    "#--------------------------FIN--------------------------------------------------------\n",
    "\n",
    "#----------CUADRO DE ENTRADA------------------\n",
    "cuadroDeEntrada=Entry(PantallaPrincipal)\n",
    "\n",
    "cuadroDeEntrada.place(x=170,y=160)\n",
    "#---------------FIN------------------\n",
    "\n",
    "#--------------BOTON---------------\n",
    "def codigoBoton():\n",
    "    radio=float(cuadroDeEntrada.get()) #utilizar \"radio\" para calculos en la probabilidad, etc.\n",
    "    textoFinal.config(text=\"El radio ingresado es \" + str(radio))\n",
    "\n",
    "boton=Button(raiz , text=(\"calcular\") , command=codigoBoton)\n",
    "boton.pack()\n",
    "#---------------FIN---------------\n",
    "\n",
    "#-------------------------TEXTO FINAL-------------------------------\n",
    "textoFinal=Label(PantallaPrincipal)\n",
    "textoFinal.config(bg=\"midnightblue\")\n",
    "textoFinal.config(fg=\"yellow\")\n",
    "textoFinal.place(x=60,y=200)\n",
    "#-------------------------FIN---------------------------------\n",
    "raiz.mainloop()"
   ]
  }
 ],
 "metadata": {
  "kernelspec": {
   "display_name": "Python 3",
   "language": "python",
   "name": "python3"
  },
  "language_info": {
   "codemirror_mode": {
    "name": "ipython",
    "version": 3
   },
   "file_extension": ".py",
   "mimetype": "text/x-python",
   "name": "python",
   "nbconvert_exporter": "python",
   "pygments_lexer": "ipython3",
   "version": "3.11.3"
  },
  "orig_nbformat": 4
 },
 "nbformat": 4,
 "nbformat_minor": 2
}
